{
  "nbformat": 4,
  "nbformat_minor": 0,
  "metadata": {
    "colab": {
      "provenance": [],
      "authorship_tag": "ABX9TyO7GrbtUolnvRJQD1eR5T6z",
      "include_colab_link": true
    },
    "kernelspec": {
      "name": "python3",
      "display_name": "Python 3"
    },
    "language_info": {
      "name": "python"
    }
  },
  "cells": [
    {
      "cell_type": "markdown",
      "metadata": {
        "id": "view-in-github",
        "colab_type": "text"
      },
      "source": [
        "<a href=\"https://colab.research.google.com/github/cauafarias13/variaveis-complexas/blob/main/Teste01.ipynb\" target=\"_parent\"><img src=\"https://colab.research.google.com/assets/colab-badge.svg\" alt=\"Open In Colab\"/></a>"
      ]
    },
    {
      "cell_type": "code",
      "execution_count": 3,
      "metadata": {
        "id": "dQDmtXq0uI-x"
      },
      "outputs": [],
      "source": [
        "import numpy as np \n",
        "import sympy as sp \n",
        "from IPython.display import display, Math"
      ]
    },
    {
      "cell_type": "markdown",
      "source": [
        "$z$ = $ 1+2i \\over 2+ai$ $=$ $(1+2i)(2-ai) \\over (1+2i)(2-ai)$ $=$ $2+2a \\over 4+a^2$ + $4-a \\over 4+a^2 $ $\\cdot$ $i$\n",
        "\n",
        "$Então \\ z=0 \\ e \\ a=4$"
      ],
      "metadata": {
        "id": "ae4C0FCO3lfd"
      }
    },
    {
      "cell_type": "code",
      "source": [],
      "metadata": {
        "id": "jJEBkqOd3gTJ"
      },
      "execution_count": null,
      "outputs": []
    }
  ]
}